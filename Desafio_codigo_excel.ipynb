{
 "cells": [
  {
   "cell_type": "code",
   "execution_count": 78,
   "metadata": {},
   "outputs": [],
   "source": [
    "#Trabalhando com planilhas excel\n",
    "import pandas as pd\n"
   ]
  },
  {
   "cell_type": "code",
   "execution_count": 79,
   "metadata": {},
   "outputs": [],
   "source": [
    "#atribuido cada planilha a uma variavel vamos fazer o tratamento dos dados\n",
    "aju = pd.read_excel(\"datasets/Aracaju.xlsx\")\n",
    "nat = pd.read_excel(\"datasets/Natal.xlsx\")\n",
    "rfe = pd.read_excel(\"datasets/Recife.xlsx\")\n",
    "fot = pd.read_excel(\"datasets/Fortaleza.xlsx\")\n",
    "ssa = pd.read_excel(\"datasets/Salvador.xlsx\")"
   ]
  },
  {
   "cell_type": "code",
   "execution_count": 80,
   "metadata": {},
   "outputs": [
    {
     "data": {
      "text/html": [
       "<div>\n",
       "<style scoped>\n",
       "    .dataframe tbody tr th:only-of-type {\n",
       "        vertical-align: middle;\n",
       "    }\n",
       "\n",
       "    .dataframe tbody tr th {\n",
       "        vertical-align: top;\n",
       "    }\n",
       "\n",
       "    .dataframe thead th {\n",
       "        text-align: right;\n",
       "    }\n",
       "</style>\n",
       "<table border=\"1\" class=\"dataframe\">\n",
       "  <thead>\n",
       "    <tr style=\"text-align: right;\">\n",
       "      <th></th>\n",
       "      <th>Cidade</th>\n",
       "      <th>Data</th>\n",
       "      <th>Vendas</th>\n",
       "      <th>LojaID</th>\n",
       "      <th>Qtde</th>\n",
       "    </tr>\n",
       "  </thead>\n",
       "  <tbody>\n",
       "    <tr>\n",
       "      <th>0</th>\n",
       "      <td>Aracaju</td>\n",
       "      <td>2018-01-01</td>\n",
       "      <td>142.00</td>\n",
       "      <td>1520</td>\n",
       "      <td>1</td>\n",
       "    </tr>\n",
       "    <tr>\n",
       "      <th>1</th>\n",
       "      <td>Aracaju</td>\n",
       "      <td>2018-01-01</td>\n",
       "      <td>14.21</td>\n",
       "      <td>1522</td>\n",
       "      <td>6</td>\n",
       "    </tr>\n",
       "    <tr>\n",
       "      <th>2</th>\n",
       "      <td>Aracaju</td>\n",
       "      <td>2018-01-01</td>\n",
       "      <td>71.55</td>\n",
       "      <td>1520</td>\n",
       "      <td>1</td>\n",
       "    </tr>\n",
       "    <tr>\n",
       "      <th>3</th>\n",
       "      <td>Aracaju</td>\n",
       "      <td>2018-01-01</td>\n",
       "      <td>3.01</td>\n",
       "      <td>1521</td>\n",
       "      <td>7</td>\n",
       "    </tr>\n",
       "    <tr>\n",
       "      <th>4</th>\n",
       "      <td>Aracaju</td>\n",
       "      <td>2018-01-01</td>\n",
       "      <td>24.51</td>\n",
       "      <td>1522</td>\n",
       "      <td>8</td>\n",
       "    </tr>\n",
       "  </tbody>\n",
       "</table>\n",
       "</div>"
      ],
      "text/plain": [
       "    Cidade       Data  Vendas  LojaID  Qtde\n",
       "0  Aracaju 2018-01-01  142.00    1520     1\n",
       "1  Aracaju 2018-01-01   14.21    1522     6\n",
       "2  Aracaju 2018-01-01   71.55    1520     1\n",
       "3  Aracaju 2018-01-01    3.01    1521     7\n",
       "4  Aracaju 2018-01-01   24.51    1522     8"
      ]
     },
     "execution_count": 80,
     "metadata": {},
     "output_type": "execute_result"
    }
   ],
   "source": [
    "#exibindo o head para verificar se é possivel juntar os os dfs em um unico\n",
    "aju.head()"
   ]
  },
  {
   "cell_type": "code",
   "execution_count": 81,
   "metadata": {},
   "outputs": [],
   "source": [
    "vendas = pd.concat([aju, nat, rfe, fot, ssa])"
   ]
  },
  {
   "cell_type": "code",
   "execution_count": 82,
   "metadata": {},
   "outputs": [
    {
     "data": {
      "text/plain": [
       "122.61180089485458"
      ]
     },
     "execution_count": 82,
     "metadata": {},
     "output_type": "execute_result"
    }
   ],
   "source": [
    "vendas[\"Vendas\"].mean()"
   ]
  },
  {
   "cell_type": "code",
   "execution_count": 87,
   "metadata": {},
   "outputs": [
    {
     "data": {
      "text/html": [
       "<div>\n",
       "<style scoped>\n",
       "    .dataframe tbody tr th:only-of-type {\n",
       "        vertical-align: middle;\n",
       "    }\n",
       "\n",
       "    .dataframe tbody tr th {\n",
       "        vertical-align: top;\n",
       "    }\n",
       "\n",
       "    .dataframe thead th {\n",
       "        text-align: right;\n",
       "    }\n",
       "</style>\n",
       "<table border=\"1\" class=\"dataframe\">\n",
       "  <thead>\n",
       "    <tr style=\"text-align: right;\">\n",
       "      <th></th>\n",
       "      <th>Cidade</th>\n",
       "      <th>Data</th>\n",
       "      <th>Vendas</th>\n",
       "      <th>LojaID</th>\n",
       "      <th>Qtde</th>\n",
       "    </tr>\n",
       "  </thead>\n",
       "  <tbody>\n",
       "    <tr>\n",
       "      <th>69</th>\n",
       "      <td>Aracaju</td>\n",
       "      <td>2018-01-01</td>\n",
       "      <td>15.81</td>\n",
       "      <td>1523</td>\n",
       "      <td>1</td>\n",
       "    </tr>\n",
       "    <tr>\n",
       "      <th>77</th>\n",
       "      <td>Aracaju</td>\n",
       "      <td>2018-01-01</td>\n",
       "      <td>24.10</td>\n",
       "      <td>1522</td>\n",
       "      <td>1</td>\n",
       "    </tr>\n",
       "    <tr>\n",
       "      <th>31</th>\n",
       "      <td>Natal</td>\n",
       "      <td>2018-04-03</td>\n",
       "      <td>401.00</td>\n",
       "      <td>854</td>\n",
       "      <td>4</td>\n",
       "    </tr>\n",
       "    <tr>\n",
       "      <th>72</th>\n",
       "      <td>Aracaju</td>\n",
       "      <td>2018-01-01</td>\n",
       "      <td>168.95</td>\n",
       "      <td>1523</td>\n",
       "      <td>7</td>\n",
       "    </tr>\n",
       "    <tr>\n",
       "      <th>123</th>\n",
       "      <td>Recife</td>\n",
       "      <td>2019-03-02</td>\n",
       "      <td>20.22</td>\n",
       "      <td>981</td>\n",
       "      <td>6</td>\n",
       "    </tr>\n",
       "  </tbody>\n",
       "</table>\n",
       "</div>"
      ],
      "text/plain": [
       "      Cidade       Data  Vendas  LojaID  Qtde\n",
       "69   Aracaju 2018-01-01   15.81    1523     1\n",
       "77   Aracaju 2018-01-01   24.10    1522     1\n",
       "31     Natal 2018-04-03  401.00     854     4\n",
       "72   Aracaju 2018-01-01  168.95    1523     7\n",
       "123   Recife 2019-03-02   20.22     981     6"
      ]
     },
     "execution_count": 87,
     "metadata": {},
     "output_type": "execute_result"
    }
   ],
   "source": [
    "#é possivel exibir uma amostra dos dados\n",
    "#isso pode ser util para verificar se a junção deu certo\n",
    "vendas.sample(5)"
   ]
  },
  {
   "cell_type": "code",
   "execution_count": 88,
   "metadata": {},
   "outputs": [
    {
     "data": {
      "text/plain": [
       "Cidade            object\n",
       "Data      datetime64[ns]\n",
       "Vendas           float64\n",
       "LojaID             int64\n",
       "Qtde               int64\n",
       "dtype: object"
      ]
     },
     "execution_count": 88,
     "metadata": {},
     "output_type": "execute_result"
    }
   ],
   "source": [
    "#verificando o tipo de arquivo em cada coluna do nosso df\n",
    "vendas.dtypes"
   ]
  },
  {
   "cell_type": "code",
   "execution_count": 89,
   "metadata": {},
   "outputs": [],
   "source": [
    "#transformando a coluna LojaID no typo object ja que estao nao sera utilizado como calculo\n",
    "vendas[\"LojaID\"] = vendas[\"LojaID\"].astype(\"object\")"
   ]
  },
  {
   "cell_type": "code",
   "execution_count": 90,
   "metadata": {},
   "outputs": [
    {
     "data": {
      "text/plain": [
       "Cidade    0\n",
       "Data      0\n",
       "Vendas    0\n",
       "LojaID    0\n",
       "Qtde      0\n",
       "dtype: int64"
      ]
     },
     "execution_count": 90,
     "metadata": {},
     "output_type": "execute_result"
    }
   ],
   "source": [
    "#verificando valores faltantes\n",
    "\n",
    "vendas.isnull().sum()"
   ]
  }
 ],
 "metadata": {
  "kernelspec": {
   "display_name": "Python 3.9.6 64-bit",
   "language": "python",
   "name": "python3"
  },
  "language_info": {
   "codemirror_mode": {
    "name": "ipython",
    "version": 3
   },
   "file_extension": ".py",
   "mimetype": "text/x-python",
   "name": "python",
   "nbconvert_exporter": "python",
   "pygments_lexer": "ipython3",
   "version": "3.9.6"
  },
  "orig_nbformat": 4,
  "vscode": {
   "interpreter": {
    "hash": "5de777f71734ad53585acf74c7542a0ff2bbfb2d0055625135afe976761fb664"
   }
  }
 },
 "nbformat": 4,
 "nbformat_minor": 2
}
